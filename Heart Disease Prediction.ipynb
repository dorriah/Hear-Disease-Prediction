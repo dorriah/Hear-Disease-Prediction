{
 "cells": [
  {
   "cell_type": "markdown",
   "metadata": {
    "id": "krgnN7VKg-Q0"
   },
   "source": [
    "**HEART DISEASE PREDICTION**\n"
   ]
  },
  {
   "cell_type": "code",
   "execution_count": 1,
   "metadata": {
    "id": "IkDZS4nAf8Bf"
   },
   "outputs": [],
   "source": [
    "#importing necessary packages\n",
    "import numpy as np\n",
    "import pandas as pd\n",
    "import matplotlib.pyplot as plt\n",
    "import seaborn as sns\n",
    "import imblearn"
   ]
  },
  {
   "cell_type": "markdown",
   "metadata": {
    "id": "gwPXLRlBgPOk"
   },
   "source": [
    "**Exploratory Data Analysis**"
   ]
  },
  {
   "cell_type": "code",
   "execution_count": 2,
   "metadata": {
    "id": "MI0ah-uqgVFE",
    "outputId": "a5067583-f1ac-4f8a-8edd-9565886eb72b"
   },
   "outputs": [
    {
     "data": {
      "text/html": [
       "<div>\n",
       "<style scoped>\n",
       "    .dataframe tbody tr th:only-of-type {\n",
       "        vertical-align: middle;\n",
       "    }\n",
       "\n",
       "    .dataframe tbody tr th {\n",
       "        vertical-align: top;\n",
       "    }\n",
       "\n",
       "    .dataframe thead th {\n",
       "        text-align: right;\n",
       "    }\n",
       "</style>\n",
       "<table border=\"1\" class=\"dataframe\">\n",
       "  <thead>\n",
       "    <tr style=\"text-align: right;\">\n",
       "      <th></th>\n",
       "      <th>male</th>\n",
       "      <th>age</th>\n",
       "      <th>education</th>\n",
       "      <th>currentSmoker</th>\n",
       "      <th>cigsPerDay</th>\n",
       "      <th>BPMeds</th>\n",
       "      <th>prevalentStroke</th>\n",
       "      <th>prevalentHyp</th>\n",
       "      <th>diabetes</th>\n",
       "      <th>totChol</th>\n",
       "      <th>sysBP</th>\n",
       "      <th>diaBP</th>\n",
       "      <th>BMI</th>\n",
       "      <th>heartRate</th>\n",
       "      <th>glucose</th>\n",
       "      <th>TenYearCHD</th>\n",
       "    </tr>\n",
       "  </thead>\n",
       "  <tbody>\n",
       "    <tr>\n",
       "      <th>0</th>\n",
       "      <td>1</td>\n",
       "      <td>39</td>\n",
       "      <td>4.0</td>\n",
       "      <td>0</td>\n",
       "      <td>0.0</td>\n",
       "      <td>0.0</td>\n",
       "      <td>0</td>\n",
       "      <td>0</td>\n",
       "      <td>0</td>\n",
       "      <td>195.0</td>\n",
       "      <td>106.0</td>\n",
       "      <td>70.0</td>\n",
       "      <td>26.97</td>\n",
       "      <td>80.0</td>\n",
       "      <td>77.0</td>\n",
       "      <td>0</td>\n",
       "    </tr>\n",
       "    <tr>\n",
       "      <th>1</th>\n",
       "      <td>0</td>\n",
       "      <td>46</td>\n",
       "      <td>2.0</td>\n",
       "      <td>0</td>\n",
       "      <td>0.0</td>\n",
       "      <td>0.0</td>\n",
       "      <td>0</td>\n",
       "      <td>0</td>\n",
       "      <td>0</td>\n",
       "      <td>250.0</td>\n",
       "      <td>121.0</td>\n",
       "      <td>81.0</td>\n",
       "      <td>28.73</td>\n",
       "      <td>95.0</td>\n",
       "      <td>76.0</td>\n",
       "      <td>0</td>\n",
       "    </tr>\n",
       "    <tr>\n",
       "      <th>2</th>\n",
       "      <td>1</td>\n",
       "      <td>48</td>\n",
       "      <td>1.0</td>\n",
       "      <td>1</td>\n",
       "      <td>20.0</td>\n",
       "      <td>0.0</td>\n",
       "      <td>0</td>\n",
       "      <td>0</td>\n",
       "      <td>0</td>\n",
       "      <td>245.0</td>\n",
       "      <td>127.5</td>\n",
       "      <td>80.0</td>\n",
       "      <td>25.34</td>\n",
       "      <td>75.0</td>\n",
       "      <td>70.0</td>\n",
       "      <td>0</td>\n",
       "    </tr>\n",
       "    <tr>\n",
       "      <th>3</th>\n",
       "      <td>0</td>\n",
       "      <td>61</td>\n",
       "      <td>3.0</td>\n",
       "      <td>1</td>\n",
       "      <td>30.0</td>\n",
       "      <td>0.0</td>\n",
       "      <td>0</td>\n",
       "      <td>1</td>\n",
       "      <td>0</td>\n",
       "      <td>225.0</td>\n",
       "      <td>150.0</td>\n",
       "      <td>95.0</td>\n",
       "      <td>28.58</td>\n",
       "      <td>65.0</td>\n",
       "      <td>103.0</td>\n",
       "      <td>1</td>\n",
       "    </tr>\n",
       "    <tr>\n",
       "      <th>4</th>\n",
       "      <td>0</td>\n",
       "      <td>46</td>\n",
       "      <td>3.0</td>\n",
       "      <td>1</td>\n",
       "      <td>23.0</td>\n",
       "      <td>0.0</td>\n",
       "      <td>0</td>\n",
       "      <td>0</td>\n",
       "      <td>0</td>\n",
       "      <td>285.0</td>\n",
       "      <td>130.0</td>\n",
       "      <td>84.0</td>\n",
       "      <td>23.10</td>\n",
       "      <td>85.0</td>\n",
       "      <td>85.0</td>\n",
       "      <td>0</td>\n",
       "    </tr>\n",
       "  </tbody>\n",
       "</table>\n",
       "</div>"
      ],
      "text/plain": [
       "   male  age  education  currentSmoker  cigsPerDay  BPMeds  prevalentStroke  \\\n",
       "0     1   39        4.0              0         0.0     0.0                0   \n",
       "1     0   46        2.0              0         0.0     0.0                0   \n",
       "2     1   48        1.0              1        20.0     0.0                0   \n",
       "3     0   61        3.0              1        30.0     0.0                0   \n",
       "4     0   46        3.0              1        23.0     0.0                0   \n",
       "\n",
       "   prevalentHyp  diabetes  totChol  sysBP  diaBP    BMI  heartRate  glucose  \\\n",
       "0             0         0    195.0  106.0   70.0  26.97       80.0     77.0   \n",
       "1             0         0    250.0  121.0   81.0  28.73       95.0     76.0   \n",
       "2             0         0    245.0  127.5   80.0  25.34       75.0     70.0   \n",
       "3             1         0    225.0  150.0   95.0  28.58       65.0    103.0   \n",
       "4             0         0    285.0  130.0   84.0  23.10       85.0     85.0   \n",
       "\n",
       "   TenYearCHD  \n",
       "0           0  \n",
       "1           0  \n",
       "2           0  \n",
       "3           1  \n",
       "4           0  "
      ]
     },
     "execution_count": 2,
     "metadata": {},
     "output_type": "execute_result"
    }
   ],
   "source": [
    "#Reading data\n",
    "data = pd.read_csv(\"framingham.csv\")\n",
    "data.head()"
   ]
  },
  {
   "cell_type": "code",
   "execution_count": 3,
   "metadata": {
    "id": "JNIIufyjiwAo",
    "outputId": "06849f05-a08c-4dde-ce68-933a14484da1"
   },
   "outputs": [
    {
     "data": {
      "text/plain": [
       "<AxesSubplot:ylabel='TenYearCHD'>"
      ]
     },
     "execution_count": 3,
     "metadata": {},
     "output_type": "execute_result"
    },
    {
     "data": {
      "image/png": "[encoded data removed]",
      "text/plain": [
       "<Figure size 432x288 with 1 Axes>"
      ]
     },
     "metadata": {},
     "output_type": "display_data"
    }
   ],
   "source": [
    "#Pie chart of data\n",
    "data['TenYearCHD'].value_counts().plot.pie(explode=[0,0.2],autopct='%1.1f%%',shadow=True)"
   ]
  },
  {
   "cell_type": "markdown",
   "metadata": {
    "id": "aTtdYwQKfCbJ"
   },
   "source": [
    "Seems that 15.2% of people have 10-year risk of future coronary heart disease. This also tells that the data is skewed which we will handle later."
   ]
  },
  {
   "cell_type": "code",
   "execution_count": 4,
   "metadata": {
    "id": "NZjsvsOwi5uI",
    "outputId": "d952f214-bcf5-4809-8266-fb29f6d634f9"
   },
   "outputs": [
    {
     "name": "stderr",
     "output_type": "stream",
     "text": [
      "/opt/homebrew/lib/python3.9/site-packages/seaborn/_decorators.py:36: FutureWarning: Pass the following variable as a keyword arg: x. From version 0.12, the only valid positional argument will be `data`, and passing other arguments without an explicit keyword will result in an error or misinterpretation.\n",
      "  warnings.warn(\n"
     ]
    },
    {
     "data": {
      "text/plain": [
       "<AxesSubplot:xlabel='age', ylabel='count'>"
      ]
     },
     "execution_count": 4,
     "metadata": {},
     "output_type": "execute_result"
    },
    {
     "data": {
      "image/png": "[encoded data removed]",
      "text/plain": [
       "<Figure size 864x432 with 1 Axes>"
      ]
     },
     "metadata": {
      "needs_background": "light"
     },
     "output_type": "display_data"
    }
   ],
   "source": [
    "#Plotting histogram of age with respect to TenYearCHD\n",
    "plt.figure(figsize=(12, 6))\n",
    "sns.countplot('age',hue='TenYearCHD',data=data)"
   ]
  },
  {
   "cell_type": "markdown",
   "metadata": {
    "id": "h8FYIlZlhK2z"
   },
   "source": [
    "**Insight** : There seems to be increased risk with age"
   ]
  },
  {
   "cell_type": "code",
   "execution_count": 5,
   "metadata": {
    "id": "0lYsJPStmjmU",
    "outputId": "10e358dd-96fb-4788-f166-f2728600a59e"
   },
   "outputs": [
    {
     "name": "stderr",
     "output_type": "stream",
     "text": [
      "/opt/homebrew/lib/python3.9/site-packages/seaborn/_decorators.py:36: FutureWarning: Pass the following variable as a keyword arg: x. From version 0.12, the only valid positional argument will be `data`, and passing other arguments without an explicit keyword will result in an error or misinterpretation.\n",
      "  warnings.warn(\n",
      "/opt/homebrew/lib/python3.9/site-packages/seaborn/_decorators.py:36: FutureWarning: Pass the following variable as a keyword arg: x. From version 0.12, the only valid positional argument will be `data`, and passing other arguments without an explicit keyword will result in an error or misinterpretation.\n",
      "  warnings.warn(\n",
      "/opt/homebrew/lib/python3.9/site-packages/seaborn/_decorators.py:36: FutureWarning: Pass the following variable as a keyword arg: x. From version 0.12, the only valid positional argument will be `data`, and passing other arguments without an explicit keyword will result in an error or misinterpretation.\n",
      "  warnings.warn(\n",
      "/opt/homebrew/lib/python3.9/site-packages/seaborn/_decorators.py:36: FutureWarning: Pass the following variable as a keyword arg: x. From version 0.12, the only valid positional argument will be `data`, and passing other arguments without an explicit keyword will result in an error or misinterpretation.\n",
      "  warnings.warn(\n",
      "/opt/homebrew/lib/python3.9/site-packages/seaborn/_decorators.py:36: FutureWarning: Pass the following variable as a keyword arg: x. From version 0.12, the only valid positional argument will be `data`, and passing other arguments without an explicit keyword will result in an error or misinterpretation.\n",
      "  warnings.warn(\n",
      "/opt/homebrew/lib/python3.9/site-packages/seaborn/_decorators.py:36: FutureWarning: Pass the following variable as a keyword arg: x. From version 0.12, the only valid positional argument will be `data`, and passing other arguments without an explicit keyword will result in an error or misinterpretation.\n",
      "  warnings.warn(\n",
      "/opt/homebrew/lib/python3.9/site-packages/seaborn/_decorators.py:36: FutureWarning: Pass the following variable as a keyword arg: x. From version 0.12, the only valid positional argument will be `data`, and passing other arguments without an explicit keyword will result in an error or misinterpretation.\n",
      "  warnings.warn(\n"
     ]
    },
    {
     "data": {
      "image/png": "[encoded data removed]",
      "text/plain": [
       "<Figure size 1080x864 with 7 Axes>"
      ]
     },
     "metadata": {
      "needs_background": "light"
     },
     "output_type": "display_data"
    }
   ],
   "source": [
    "plt.figure(figsize=(15, 12))\n",
    "\n",
    "plt.subplot(3,3,1)\n",
    "sns.countplot('male',hue='TenYearCHD',data=data)\n",
    "plt.subplot(3,3,2)\n",
    "sns.countplot('education',hue='TenYearCHD',data=data)\n",
    "plt.subplot(3,3,3)\n",
    "sns.countplot('currentSmoker',hue='TenYearCHD',data=data)\n",
    "plt.subplot(3,3,4)\n",
    "sns.countplot('BPMeds',hue='TenYearCHD',data=data)\n",
    "plt.subplot(3,3,5)\n",
    "sns.countplot('prevalentStroke',hue='TenYearCHD',data=data)\n",
    "plt.subplot(3,3,6)\n",
    "sns.countplot('prevalentHyp',hue='TenYearCHD',data=data)\n",
    "plt.subplot(3,3,7)\n",
    "sns.countplot('diabetes',hue='TenYearCHD',data=data)\n",
    "\n",
    "plt.show()"
   ]
  },
  {
   "cell_type": "markdown",
   "metadata": {
    "id": "GxSuzq4njBgo"
   },
   "source": [
    "**Insight**: \n",
    "1. There seems to be a slighlty higher risk if its a male.\n",
    "2. The more educated people are the lower their risk. Makes sense as they have more knowledge on how to take care of themselves.\n",
    "3. Risk is the same for both smoker and non-smoker\n",
    "4. People taking BPMeds have a higher risk.\n",
    "5. People that have had a stroke are at greater risk.\n",
    "6. People who are hypertensive are at greater risk.\n",
    "7. People with diabetes are at a higher risk"
   ]
  },
  {
   "cell_type": "code",
   "execution_count": 6,
   "metadata": {
    "id": "MXSoagRAyF-Z",
    "outputId": "dae57411-7c68-45e8-f5c2-fdfd16802ac9"
   },
   "outputs": [
    {
     "name": "stderr",
     "output_type": "stream",
     "text": [
      "/opt/homebrew/lib/python3.9/site-packages/seaborn/_decorators.py:36: FutureWarning: Pass the following variables as keyword args: x, y. From version 0.12, the only valid positional argument will be `data`, and passing other arguments without an explicit keyword will result in an error or misinterpretation.\n",
      "  warnings.warn(\n",
      "/opt/homebrew/lib/python3.9/site-packages/seaborn/_decorators.py:36: FutureWarning: Pass the following variables as keyword args: x, y. From version 0.12, the only valid positional argument will be `data`, and passing other arguments without an explicit keyword will result in an error or misinterpretation.\n",
      "  warnings.warn(\n",
      "/opt/homebrew/lib/python3.9/site-packages/seaborn/_decorators.py:36: FutureWarning: Pass the following variables as keyword args: x, y. From version 0.12, the only valid positional argument will be `data`, and passing other arguments without an explicit keyword will result in an error or misinterpretation.\n",
      "  warnings.warn(\n",
      "/opt/homebrew/lib/python3.9/site-packages/seaborn/_decorators.py:36: FutureWarning: Pass the following variables as keyword args: x, y. From version 0.12, the only valid positional argument will be `data`, and passing other arguments without an explicit keyword will result in an error or misinterpretation.\n",
      "  warnings.warn(\n",
      "/opt/homebrew/lib/python3.9/site-packages/seaborn/_decorators.py:36: FutureWarning: Pass the following variables as keyword args: x, y. From version 0.12, the only valid positional argument will be `data`, and passing other arguments without an explicit keyword will result in an error or misinterpretation.\n",
      "  warnings.warn(\n",
      "/opt/homebrew/lib/python3.9/site-packages/seaborn/_decorators.py:36: FutureWarning: Pass the following variables as keyword args: x, y. From version 0.12, the only valid positional argument will be `data`, and passing other arguments without an explicit keyword will result in an error or misinterpretation.\n",
      "  warnings.warn(\n"
     ]
    },
    {
     "data": {
      "image/png": "[encoded data removed]",
      "text/plain": [
       "<Figure size 1080x864 with 6 Axes>"
      ]
     },
     "metadata": {
      "needs_background": "light"
     },
     "output_type": "display_data"
    }
   ],
   "source": [
    "plt.figure(figsize=(15, 12))\n",
    "\n",
    "plt.subplot(3,3,1)\n",
    "sns.boxplot(data['TenYearCHD'], data['totChol'], palette = 'viridis')\n",
    "plt.subplot(3,3,2)\n",
    "sns.boxplot(data['TenYearCHD'], data['sysBP'], palette = 'viridis')\n",
    "plt.subplot(3,3,3)\n",
    "sns.boxplot(data['TenYearCHD'], data['diaBP'], palette = 'viridis')\n",
    "plt.subplot(3,3,4)\n",
    "sns.boxplot(data['TenYearCHD'], data['BMI'], palette = 'viridis')\n",
    "plt.subplot(3,3,5)\n",
    "sns.boxplot(data['TenYearCHD'], data['heartRate'], palette = 'viridis')\n",
    "plt.subplot(3,3,6)\n",
    "sns.boxplot(data['TenYearCHD'], data['glucose'], palette = 'viridis')\n",
    "\n",
    "plt.show()"
   ]
  },
  {
   "cell_type": "markdown",
   "metadata": {
    "id": "ZIR6qdUhN8rR"
   },
   "source": [
    "**Insight**: \n",
    "1. People with risk of CHD seem to have slighlty elevated cholestrol levels\n",
    "2. People with risk of CHD seem to have elevated levels of systolic blood pressure (sysBP)\n",
    "3. People with risk of CHD seem to have elevated levels of diastolic blood pressure (diaBP)\n",
    "4. People with risk of CHD seem to have slighlty elevated BMI\n",
    "5. People with risk of CHD seem to have slighlty elevated heart rate\n",
    "6. People with risk of CHD seem to have slighlty elevated glucose levels"
   ]
  },
  {
   "cell_type": "code",
   "execution_count": 7,
   "metadata": {
    "id": "C-xbtvHVyq06",
    "outputId": "7ee3d25c-398c-44fe-99ac-575d44d1ee64"
   },
   "outputs": [
    {
     "name": "stdout",
     "output_type": "stream",
     "text": [
      "<class 'pandas.core.frame.DataFrame'>\n",
      "RangeIndex: 4238 entries, 0 to 4237\n",
      "Data columns (total 16 columns):\n",
      " #   Column           Non-Null Count  Dtype  \n",
      "---  ------           --------------  -----  \n",
      " 0   male             4238 non-null   int64  \n",
      " 1   age              4238 non-null   int64  \n",
      " 2   education        4133 non-null   float64\n",
      " 3   currentSmoker    4238 non-null   int64  \n",
      " 4   cigsPerDay       4209 non-null   float64\n",
      " 5   BPMeds           4185 non-null   float64\n",
      " 6   prevalentStroke  4238 non-null   int64  \n",
      " 7   prevalentHyp     4238 non-null   int64  \n",
      " 8   diabetes         4238 non-null   int64  \n",
      " 9   totChol          4188 non-null   float64\n",
      " 10  sysBP            4238 non-null   float64\n",
      " 11  diaBP            4238 non-null   float64\n",
      " 12  BMI              4219 non-null   float64\n",
      " 13  heartRate        4237 non-null   float64\n",
      " 14  glucose          3850 non-null   float64\n",
      " 15  TenYearCHD       4238 non-null   int64  \n",
      "dtypes: float64(9), int64(7)\n",
      "memory usage: 529.9 KB\n",
      "------------------------\n"
     ]
    },
    {
     "data": {
      "text/plain": [
       "male                 0\n",
       "age                  0\n",
       "education          105\n",
       "currentSmoker        0\n",
       "cigsPerDay          29\n",
       "BPMeds              53\n",
       "prevalentStroke      0\n",
       "prevalentHyp         0\n",
       "diabetes             0\n",
       "totChol             50\n",
       "sysBP                0\n",
       "diaBP                0\n",
       "BMI                 19\n",
       "heartRate            1\n",
       "glucose            388\n",
       "TenYearCHD           0\n",
       "dtype: int64"
      ]
     },
     "execution_count": 7,
     "metadata": {},
     "output_type": "execute_result"
    }
   ],
   "source": [
    "#Checking if data is missing\n",
    "data.info()\n",
    "print(\"------------------------\")\n",
    "data.isnull().sum()"
   ]
  },
  {
   "cell_type": "markdown",
   "metadata": {
    "id": "n9ZXaudGPOy_"
   },
   "source": [
    "There seems to be data missing"
   ]
  },
  {
   "cell_type": "code",
   "execution_count": 8,
   "metadata": {
    "id": "kEFXOP9Hy_bB",
    "outputId": "21fce8d3-1b59-4791-eec8-c2b8ec98ea8f"
   },
   "outputs": [
    {
     "data": {
      "text/plain": [
       "glucose       9.16\n",
       "education     2.48\n",
       "BPMeds        1.25\n",
       "totChol       1.18\n",
       "cigsPerDay    0.68\n",
       "dtype: float64"
      ]
     },
     "execution_count": 8,
     "metadata": {},
     "output_type": "execute_result"
    }
   ],
   "source": [
    "#Calculating the Missing Values % contribution in data\n",
    "data_null = data.isna().mean().round(4) * 100\n",
    "data_null.sort_values(ascending=False).head()"
   ]
  },
  {
   "cell_type": "code",
   "execution_count": 11,
   "metadata": {
    "id": "vhx6D-xHzFnK",
    "outputId": "ae91d8be-c0e0-426f-f98b-44c2a5a3c9f5"
   },
   "outputs": [
    {
     "data": {
      "text/plain": [
       "<AxesSubplot:>"
      ]
     },
     "execution_count": 11,
     "metadata": {},
     "output_type": "execute_result"
    },
    {
     "data": {
      "image/png": "[encoded data removed]",
      "text/plain": [
       "<Figure size 1800x720 with 1 Axes>"
      ]
     },
     "metadata": {
      "needs_background": "light"
     },
     "output_type": "display_data"
    }
   ],
   "source": [
    "#A dendrogram is a diagram that shows the hierarchical relationship between features\n",
    "#Here we are looking at dendogram of missing data\n",
    "import missingno as msno\n",
    "msno.dendrogram(data)"
   ]
  },
  {
   "cell_type": "markdown",
   "metadata": {
    "id": "ZN8uV92BPpyg"
   },
   "source": [
    "Handling missing data"
   ]
  },
  {
   "cell_type": "code",
   "execution_count": 12,
   "metadata": {
    "id": "FUzL2xKoz6yE"
   },
   "outputs": [],
   "source": [
    "#Imputing the missing data\n",
    "from sklearn.impute import SimpleImputer\n",
    "imputer = SimpleImputer(missing_values=np.nan, strategy='mean')\n",
    "\n",
    "data_new = pd.DataFrame(imputer.fit_transform(data))\n",
    "data_new.columns = data.columns\n",
    "data_new.index = data.index"
   ]
  },
  {
   "cell_type": "code",
   "execution_count": 13,
   "metadata": {
    "id": "6hH4vqsw8G-_",
    "outputId": "7a6edf6f-c3a5-48e9-cc37-488152f8a60c"
   },
   "outputs": [
    {
     "data": {
      "text/plain": [
       "male               0\n",
       "age                0\n",
       "education          0\n",
       "currentSmoker      0\n",
       "cigsPerDay         0\n",
       "BPMeds             0\n",
       "prevalentStroke    0\n",
       "prevalentHyp       0\n",
       "diabetes           0\n",
       "totChol            0\n",
       "sysBP              0\n",
       "diaBP              0\n",
       "BMI                0\n",
       "heartRate          0\n",
       "glucose            0\n",
       "TenYearCHD         0\n",
       "dtype: int64"
      ]
     },
     "execution_count": 13,
     "metadata": {},
     "output_type": "execute_result"
    }
   ],
   "source": [
    "data_new.isnull().sum()"
   ]
  },
  {
   "cell_type": "markdown",
   "metadata": {
    "id": "tgiFjNWcZoMf"
   },
   "source": [
    "Now lets check for outliers"
   ]
  },
  {
   "cell_type": "code",
   "execution_count": 14,
   "metadata": {
    "id": "y3csT4p8Zrtl",
    "outputId": "b1813039-41e2-4ae8-90d3-187664b9d2c6"
   },
   "outputs": [
    {
     "name": "stderr",
     "output_type": "stream",
     "text": [
      "/opt/homebrew/lib/python3.9/site-packages/seaborn/_decorators.py:36: FutureWarning: Pass the following variable as a keyword arg: x. From version 0.12, the only valid positional argument will be `data`, and passing other arguments without an explicit keyword will result in an error or misinterpretation.\n",
      "  warnings.warn(\n",
      "/opt/homebrew/lib/python3.9/site-packages/seaborn/_decorators.py:36: FutureWarning: Pass the following variable as a keyword arg: x. From version 0.12, the only valid positional argument will be `data`, and passing other arguments without an explicit keyword will result in an error or misinterpretation.\n",
      "  warnings.warn(\n",
      "/opt/homebrew/lib/python3.9/site-packages/seaborn/_decorators.py:36: FutureWarning: Pass the following variable as a keyword arg: x. From version 0.12, the only valid positional argument will be `data`, and passing other arguments without an explicit keyword will result in an error or misinterpretation.\n",
      "  warnings.warn(\n",
      "/opt/homebrew/lib/python3.9/site-packages/seaborn/_decorators.py:36: FutureWarning: Pass the following variable as a keyword arg: x. From version 0.12, the only valid positional argument will be `data`, and passing other arguments without an explicit keyword will result in an error or misinterpretation.\n",
      "  warnings.warn(\n",
      "/opt/homebrew/lib/python3.9/site-packages/seaborn/_decorators.py:36: FutureWarning: Pass the following variable as a keyword arg: x. From version 0.12, the only valid positional argument will be `data`, and passing other arguments without an explicit keyword will result in an error or misinterpretation.\n",
      "  warnings.warn(\n",
      "/opt/homebrew/lib/python3.9/site-packages/seaborn/_decorators.py:36: FutureWarning: Pass the following variable as a keyword arg: x. From version 0.12, the only valid positional argument will be `data`, and passing other arguments without an explicit keyword will result in an error or misinterpretation.\n",
      "  warnings.warn(\n",
      "/opt/homebrew/lib/python3.9/site-packages/seaborn/_decorators.py:36: FutureWarning: Pass the following variable as a keyword arg: x. From version 0.12, the only valid positional argument will be `data`, and passing other arguments without an explicit keyword will result in an error or misinterpretation.\n",
      "  warnings.warn(\n",
      "/opt/homebrew/lib/python3.9/site-packages/seaborn/_decorators.py:36: FutureWarning: Pass the following variable as a keyword arg: x. From version 0.12, the only valid positional argument will be `data`, and passing other arguments without an explicit keyword will result in an error or misinterpretation.\n",
      "  warnings.warn(\n"
     ]
    },
    {
     "data": {
      "image/png": "[encoded data removed]",
      "text/plain": [
       "<Figure size 1080x576 with 8 Axes>"
      ]
     },
     "metadata": {
      "needs_background": "light"
     },
     "output_type": "display_data"
    }
   ],
   "source": [
    "#Plotting boxplot of features to find outliers\n",
    "plt.figure(figsize=(15, 8))\n",
    "\n",
    "plt.subplot(3,3,1)\n",
    "sns.boxplot(data_new['age'],color='yellow')\n",
    "plt.subplot(3,3,2)\n",
    "sns.boxplot(data_new['cigsPerDay'],color='yellow')\n",
    "plt.subplot(3,3,3)\n",
    "sns.boxplot(data_new['totChol'],color='yellow')\n",
    "plt.subplot(3,3,4)\n",
    "sns.boxplot(data_new['sysBP'],color='yellow')\n",
    "plt.subplot(3,3,5)\n",
    "sns.boxplot(data_new['diaBP'],color='yellow')\n",
    "plt.subplot(3,3,6)\n",
    "sns.boxplot(data_new['BMI'],color='yellow')\n",
    "plt.subplot(3,3,7)\n",
    "sns.boxplot(data_new['heartRate'],color='yellow')\n",
    "plt.subplot(3,3,8)\n",
    "sns.boxplot(data_new['glucose'],color='yellow')\n",
    "\n",
    "plt.show()"
   ]
  },
  {
   "cell_type": "markdown",
   "metadata": {
    "id": "rC0EC9KganZw"
   },
   "source": [
    "We will handle this using Z-score"
   ]
  },
  {
   "cell_type": "code",
   "execution_count": 15,
   "metadata": {
    "id": "YSz8JqBhaphW",
    "outputId": "e506ad93-0eb3-4c09-9f28-5f018d20cb94"
   },
   "outputs": [
    {
     "name": "stdout",
     "output_type": "stream",
     "text": [
      "(array([  13,   28,   35,   37,   37,   37,   42,   44,   44,   44,   44,\n",
      "         56,   66,   66,   78,   87,   87,   96,  108,  114,  143,  153,\n",
      "        154,  158,  158,  161,  165,  194,  247,  249,  249,  249,  249,\n",
      "        255,  255,  260,  264,  284,  294,  299,  311,  327,  333,  333,\n",
      "        339,  346,  357,  358,  369,  374,  407,  409,  409,  421,  423,\n",
      "        433,  443,  443,  446,  446,  447,  451,  458,  467,  471,  471,\n",
      "        475,  481,  481,  481,  531,  533,  541,  543,  585,  590,  590,\n",
      "        617,  646,  660,  664,  665,  675,  699,  721,  723,  738,  750,\n",
      "        750,  763,  763,  763,  786,  795,  829,  833,  833,  833,  833,\n",
      "        864,  864,  864,  890,  894,  903,  903,  924,  932,  952,  952,\n",
      "        965,  969,  976,  998, 1003, 1008, 1022, 1030, 1041, 1044, 1054,\n",
      "       1068, 1068, 1078, 1079, 1079, 1110, 1111, 1111, 1123, 1150, 1165,\n",
      "       1183, 1189, 1189, 1197, 1238, 1238, 1262, 1268, 1268, 1286, 1303,\n",
      "       1333, 1340, 1360, 1363, 1363, 1377, 1389, 1447, 1452, 1456, 1463,\n",
      "       1468, 1470, 1478, 1485, 1485, 1488, 1520, 1520, 1521, 1525, 1544,\n",
      "       1550, 1553, 1557, 1567, 1588, 1601, 1608, 1614, 1624, 1649, 1649,\n",
      "       1674, 1674, 1691, 1715, 1715, 1717, 1751, 1751, 1760, 1762, 1768,\n",
      "       1803, 1808, 1808, 1842, 1849, 1853, 1854, 1854, 1856, 1878, 1878,\n",
      "       1895, 1902, 1907, 1931, 1931, 1937, 1947, 1975, 1985, 1989, 1989,\n",
      "       1994, 1995, 1997, 1997, 2007, 2019, 2024, 2024, 2036, 2041, 2088,\n",
      "       2091, 2091, 2091, 2093, 2098, 2132, 2162, 2162, 2167, 2170, 2174,\n",
      "       2179, 2179, 2180, 2180, 2182, 2187, 2204, 2206, 2217, 2234, 2234,\n",
      "       2237, 2245, 2262, 2263, 2275, 2278, 2299, 2304, 2307, 2307, 2349,\n",
      "       2368, 2373, 2378, 2378, 2388, 2393, 2406, 2406, 2416, 2416, 2446,\n",
      "       2459, 2461, 2463, 2467, 2471, 2473, 2482, 2488, 2492, 2492, 2492,\n",
      "       2498, 2498, 2503, 2503, 2508, 2512, 2528, 2560, 2565, 2570, 2600,\n",
      "       2607, 2608, 2608, 2617, 2645, 2645, 2649, 2649, 2657, 2657, 2663,\n",
      "       2668, 2668, 2668, 2670, 2682, 2683, 2683, 2697, 2706, 2709, 2710,\n",
      "       2733, 2733, 2755, 2756, 2756, 2779, 2784, 2784, 2796, 2801, 2801,\n",
      "       2802, 2825, 2835, 2836, 2838, 2849, 2855, 2855, 2864, 2872, 2882,\n",
      "       2883, 2883, 2891, 2891, 2893, 2893, 2907, 2909, 2909, 2909, 2909,\n",
      "       2921, 2922, 2926, 2930, 2930, 2961, 2961, 2969, 2983, 2985, 2985,\n",
      "       2986, 3002, 3002, 3008, 3051, 3054, 3062, 3062, 3088, 3088, 3094,\n",
      "       3112, 3112, 3136, 3137, 3140, 3142, 3144, 3160, 3203, 3214, 3220,\n",
      "       3225, 3233, 3242, 3242, 3256, 3300, 3314, 3320, 3321, 3322, 3327,\n",
      "       3327, 3339, 3340, 3353, 3366, 3394, 3402, 3449, 3449, 3458, 3458,\n",
      "       3474, 3489, 3489, 3489, 3493, 3517, 3522, 3532, 3540, 3552, 3554,\n",
      "       3554, 3554, 3574, 3581, 3585, 3604, 3606, 3606, 3616, 3620, 3635,\n",
      "       3648, 3657, 3659, 3671, 3671, 3673, 3674, 3675, 3675, 3678, 3680,\n",
      "       3680, 3682, 3716, 3721, 3738, 3739, 3741, 3747, 3749, 3749, 3763,\n",
      "       3763, 3769, 3778, 3793, 3793, 3794, 3797, 3806, 3809, 3816, 3817,\n",
      "       3817, 3819, 3838, 3839, 3844, 3844, 3844, 3844, 3846, 3849, 3849,\n",
      "       3862, 3862, 3868, 3868, 3895, 3899, 3901, 3916, 3927, 3927, 3927,\n",
      "       3928, 3952, 3952, 3952, 3953, 3971, 3971, 3974, 3974, 3981, 3981,\n",
      "       4001, 4001, 4029, 4035, 4040, 4040, 4042, 4042, 4053, 4057, 4064,\n",
      "       4064, 4070, 4075, 4076, 4076, 4076, 4076, 4076, 4084, 4084, 4096,\n",
      "       4096, 4106, 4108, 4123, 4132, 4154, 4158, 4164, 4168, 4173, 4173,\n",
      "       4194, 4203, 4215, 4215, 4223, 4228, 4228, 4228, 4228]), array([ 5, 11, 12,  8, 12, 14,  5,  5,  8, 10, 14,  8,  8, 14, 12, 10, 12,\n",
      "        8, 12, 12, 12, 10,  5,  5, 11,  5, 12,  9,  8,  8, 10, 11, 12,  5,\n",
      "        6,  8, 12,  8,  8,  5,  8,  4,  5, 10, 13,  5,  8, 13, 10,  5, 11,\n",
      "       11, 12,  8, 11, 12,  8, 14, 10, 11,  4,  8,  5,  4,  5,  8,  6, 10,\n",
      "       11, 12, 11,  9,  5,  9,  8,  5, 10,  9,  6,  5, 10,  5, 12,  5,  4,\n",
      "        5,  5,  5, 12,  6,  8, 14,  5,  5, 12,  8, 10, 11, 12,  5, 10, 11,\n",
      "        5, 12,  8, 10, 10, 10,  8, 14, 14, 12,  5,  9, 10, 13, 13,  8,  5,\n",
      "        6,  4,  8, 14,  5,  5, 10,  5,  8,  9,  8,  9,  8, 12, 10, 11,  5,\n",
      "        8, 14,  5,  8, 14, 12,  8,  8,  8,  4,  8, 14,  5,  5,  9,  4, 14,\n",
      "        4,  4, 13,  5,  8, 14,  4, 10, 12,  5, 12,  9,  5,  6,  5, 10, 10,\n",
      "        5, 11, 11,  6,  8, 14,  8, 14,  9,  5, 12,  5, 10, 11, 11,  5,  5,\n",
      "        5,  5, 11,  4,  4, 12,  5,  8,  5, 10, 11,  8,  5,  8,  8, 14,  9,\n",
      "        5,  6, 12, 10, 11,  5,  5,  8, 14,  5, 12,  8,  9,  6,  8, 11,  8,\n",
      "       10, 14, 11,  8, 10, 10, 12, 12, 12,  5, 10, 11,  8, 12,  4,  5,  6,\n",
      "        9,  8,  8, 14, 13, 12, 12,  5,  5,  5,  5, 10, 11, 12,  9,  9, 12,\n",
      "        8, 14, 12,  8,  8, 14, 10, 11,  5, 10,  6,  5,  5,  6,  5, 13,  9,\n",
      "        5, 12, 13,  8, 14,  8, 14,  5,  5,  8,  5,  5,  8,  8,  9, 10, 11,\n",
      "        5,  8, 10,  8, 14, 11, 12, 13,  5,  8, 12,  5,  6, 10, 11, 12,  5,\n",
      "        4,  4,  5, 13,  5,  5,  6,  5,  5,  8,  5,  8, 14,  8,  5,  4,  5,\n",
      "        5,  8,  8, 14,  5, 11,  5,  5, 12,  8, 14,  8, 14, 12,  5,  8, 10,\n",
      "       14,  4, 13,  8, 10, 12,  8, 14,  5,  5,  5,  9, 12,  8, 14,  4,  8,\n",
      "        5, 10, 11,  5,  6, 12,  8, 14,  6,  5,  8, 13,  5,  9,  8, 10,  5,\n",
      "       13, 13,  8, 13,  8,  8,  6,  5,  8, 11,  8, 14,  5,  5,  5, 12,  9,\n",
      "        5,  5,  8,  8, 14,  9,  5, 10, 11,  6,  5, 12, 11,  5,  8,  5, 10,\n",
      "       11,  5, 12, 13,  6,  8, 14, 10,  8, 11, 12, 12, 12,  5,  6,  4,  5,\n",
      "        5, 10, 12,  8, 14,  8,  5,  8, 12,  8,  6, 13,  8, 14,  8, 14,  4,\n",
      "        8,  5,  6,  5,  8,  9,  8,  9,  8, 14, 13,  5,  8,  5,  8, 10, 14,\n",
      "        5,  8, 14,  5, 13,  8, 14,  8, 12, 13,  9,  5,  6, 12,  4,  5,  6,\n",
      "       12, 11,  8, 14,  8, 14, 10, 11,  9, 12,  5,  6, 10, 11,  8, 14, 13,\n",
      "        5,  8, 14, 13, 11,  5,  8, 10, 11, 14,  8, 14,  8, 14,  5,  5, 10,\n",
      "       12,  8,  5, 13,  5, 10, 11,  5,  8,  8, 12,  5,  8, 11, 12, 14]))\n"
     ]
    }
   ],
   "source": [
    "\"\"\"\n",
    "Z-score:\n",
    "This score helps to understand if a data value is greater or smaller than mean and how far away it is from the mean.\n",
    "If the z score of a data point is more than 3/-3, it indicates that the data point is quite different from the other data points. Such a data point can be an outlier.\n",
    "\"\"\"\n",
    "\n",
    "from scipy import stats\n",
    "z = np.abs(stats.zscore(data_new))\n",
    "threshold = 3\n",
    "print(np.where(z > 3)) # The first array contains the list of row numbers and second array respective column numbers\n",
    "\n",
    "#Removing outliers\n",
    "data_new = data_new[(z < 3).all(axis=1)]"
   ]
  },
  {
   "cell_type": "code",
   "execution_count": 16,
   "metadata": {
    "id": "A2g9ZRtOa29Q",
    "outputId": "871f0c14-6855-4660-c36f-0f5d781eed13"
   },
   "outputs": [
    {
     "name": "stderr",
     "output_type": "stream",
     "text": [
      "/opt/homebrew/lib/python3.9/site-packages/seaborn/_decorators.py:36: FutureWarning: Pass the following variable as a keyword arg: x. From version 0.12, the only valid positional argument will be `data`, and passing other arguments without an explicit keyword will result in an error or misinterpretation.\n",
      "  warnings.warn(\n",
      "/opt/homebrew/lib/python3.9/site-packages/seaborn/_decorators.py:36: FutureWarning: Pass the following variable as a keyword arg: x. From version 0.12, the only valid positional argument will be `data`, and passing other arguments without an explicit keyword will result in an error or misinterpretation.\n",
      "  warnings.warn(\n",
      "/opt/homebrew/lib/python3.9/site-packages/seaborn/_decorators.py:36: FutureWarning: Pass the following variable as a keyword arg: x. From version 0.12, the only valid positional argument will be `data`, and passing other arguments without an explicit keyword will result in an error or misinterpretation.\n",
      "  warnings.warn(\n",
      "/opt/homebrew/lib/python3.9/site-packages/seaborn/_decorators.py:36: FutureWarning: Pass the following variable as a keyword arg: x. From version 0.12, the only valid positional argument will be `data`, and passing other arguments without an explicit keyword will result in an error or misinterpretation.\n",
      "  warnings.warn(\n",
      "/opt/homebrew/lib/python3.9/site-packages/seaborn/_decorators.py:36: FutureWarning: Pass the following variable as a keyword arg: x. From version 0.12, the only valid positional argument will be `data`, and passing other arguments without an explicit keyword will result in an error or misinterpretation.\n",
      "  warnings.warn(\n",
      "/opt/homebrew/lib/python3.9/site-packages/seaborn/_decorators.py:36: FutureWarning: Pass the following variable as a keyword arg: x. From version 0.12, the only valid positional argument will be `data`, and passing other arguments without an explicit keyword will result in an error or misinterpretation.\n",
      "  warnings.warn(\n",
      "/opt/homebrew/lib/python3.9/site-packages/seaborn/_decorators.py:36: FutureWarning: Pass the following variable as a keyword arg: x. From version 0.12, the only valid positional argument will be `data`, and passing other arguments without an explicit keyword will result in an error or misinterpretation.\n",
      "  warnings.warn(\n",
      "/opt/homebrew/lib/python3.9/site-packages/seaborn/_decorators.py:36: FutureWarning: Pass the following variable as a keyword arg: x. From version 0.12, the only valid positional argument will be `data`, and passing other arguments without an explicit keyword will result in an error or misinterpretation.\n",
      "  warnings.warn(\n"
     ]
    },
    {
     "data": {
      "image/png": "[encoded data removed]",
      "text/plain": [
       "<Figure size 1080x576 with 8 Axes>"
      ]
     },
     "metadata": {
      "needs_background": "light"
     },
     "output_type": "display_data"
    }
   ],
   "source": [
    "#Plotting boxplot of features to find outliers\n",
    "plt.figure(figsize=(15, 8))\n",
    "\n",
    "plt.subplot(3,3,1)\n",
    "sns.boxplot(data_new['age'],color='yellow')\n",
    "plt.subplot(3,3,2)\n",
    "sns.boxplot(data_new['cigsPerDay'],color='yellow')\n",
    "plt.subplot(3,3,3)\n",
    "sns.boxplot(data_new['totChol'],color='yellow')\n",
    "plt.subplot(3,3,4)\n",
    "sns.boxplot(data_new['sysBP'],color='yellow')\n",
    "plt.subplot(3,3,5)\n",
    "sns.boxplot(data_new['diaBP'],color='yellow')\n",
    "plt.subplot(3,3,6)\n",
    "sns.boxplot(data_new['BMI'],color='yellow')\n",
    "plt.subplot(3,3,7)\n",
    "sns.boxplot(data_new['heartRate'],color='yellow')\n",
    "plt.subplot(3,3,8)\n",
    "sns.boxplot(data_new['glucose'],color='yellow')\n",
    "\n",
    "plt.show()"
   ]
  },
  {
   "cell_type": "code",
   "execution_count": 17,
   "metadata": {
    "id": "9n71-9QEgcmk",
    "outputId": "359ff7c1-5083-458c-f680-65111ae3ab22"
   },
   "outputs": [
    {
     "data": {
      "text/html": [
       "<div>\n",
       "<style scoped>\n",
       "    .dataframe tbody tr th:only-of-type {\n",
       "        vertical-align: middle;\n",
       "    }\n",
       "\n",
       "    .dataframe tbody tr th {\n",
       "        vertical-align: top;\n",
       "    }\n",
       "\n",
       "    .dataframe thead th {\n",
       "        text-align: right;\n",
       "    }\n",
       "</style>\n",
       "<table border=\"1\" class=\"dataframe\">\n",
       "  <thead>\n",
       "    <tr style=\"text-align: right;\">\n",
       "      <th></th>\n",
       "      <th>male</th>\n",
       "      <th>age</th>\n",
       "      <th>education</th>\n",
       "      <th>currentSmoker</th>\n",
       "      <th>cigsPerDay</th>\n",
       "      <th>BPMeds</th>\n",
       "      <th>prevalentStroke</th>\n",
       "      <th>prevalentHyp</th>\n",
       "      <th>diabetes</th>\n",
       "      <th>totChol</th>\n",
       "      <th>sysBP</th>\n",
       "      <th>diaBP</th>\n",
       "      <th>BMI</th>\n",
       "      <th>heartRate</th>\n",
       "      <th>glucose</th>\n",
       "      <th>TenYearCHD</th>\n",
       "    </tr>\n",
       "  </thead>\n",
       "  <tbody>\n",
       "    <tr>\n",
       "      <th>count</th>\n",
       "      <td>3845.000000</td>\n",
       "      <td>3845.000000</td>\n",
       "      <td>3845.000000</td>\n",
       "      <td>3845.000000</td>\n",
       "      <td>3845.000000</td>\n",
       "      <td>3845.000000</td>\n",
       "      <td>3845.0</td>\n",
       "      <td>3845.000000</td>\n",
       "      <td>3845.0</td>\n",
       "      <td>3845.000000</td>\n",
       "      <td>3845.000000</td>\n",
       "      <td>3845.000000</td>\n",
       "      <td>3845.000000</td>\n",
       "      <td>3845.000000</td>\n",
       "      <td>3845.000000</td>\n",
       "      <td>3845.000000</td>\n",
       "    </tr>\n",
       "    <tr>\n",
       "      <th>mean</th>\n",
       "      <td>0.434590</td>\n",
       "      <td>49.112614</td>\n",
       "      <td>1.999729</td>\n",
       "      <td>0.504031</td>\n",
       "      <td>9.042155</td>\n",
       "      <td>0.000347</td>\n",
       "      <td>0.0</td>\n",
       "      <td>0.266320</td>\n",
       "      <td>0.0</td>\n",
       "      <td>234.799082</td>\n",
       "      <td>129.755917</td>\n",
       "      <td>81.770611</td>\n",
       "      <td>25.478611</td>\n",
       "      <td>75.369019</td>\n",
       "      <td>79.594538</td>\n",
       "      <td>0.134200</td>\n",
       "    </tr>\n",
       "    <tr>\n",
       "      <th>std</th>\n",
       "      <td>0.495768</td>\n",
       "      <td>8.470710</td>\n",
       "      <td>1.009456</td>\n",
       "      <td>0.500049</td>\n",
       "      <td>11.549549</td>\n",
       "      <td>0.003187</td>\n",
       "      <td>0.0</td>\n",
       "      <td>0.442091</td>\n",
       "      <td>0.0</td>\n",
       "      <td>41.452461</td>\n",
       "      <td>19.080909</td>\n",
       "      <td>10.771745</td>\n",
       "      <td>3.596393</td>\n",
       "      <td>11.413421</td>\n",
       "      <td>12.132156</td>\n",
       "      <td>0.340912</td>\n",
       "    </tr>\n",
       "    <tr>\n",
       "      <th>min</th>\n",
       "      <td>0.000000</td>\n",
       "      <td>32.000000</td>\n",
       "      <td>1.000000</td>\n",
       "      <td>0.000000</td>\n",
       "      <td>0.000000</td>\n",
       "      <td>0.000000</td>\n",
       "      <td>0.0</td>\n",
       "      <td>0.000000</td>\n",
       "      <td>0.0</td>\n",
       "      <td>113.000000</td>\n",
       "      <td>83.500000</td>\n",
       "      <td>48.000000</td>\n",
       "      <td>15.540000</td>\n",
       "      <td>44.000000</td>\n",
       "      <td>40.000000</td>\n",
       "      <td>0.000000</td>\n",
       "    </tr>\n",
       "    <tr>\n",
       "      <th>25%</th>\n",
       "      <td>0.000000</td>\n",
       "      <td>42.000000</td>\n",
       "      <td>1.000000</td>\n",
       "      <td>0.000000</td>\n",
       "      <td>0.000000</td>\n",
       "      <td>0.000000</td>\n",
       "      <td>0.0</td>\n",
       "      <td>0.000000</td>\n",
       "      <td>0.0</td>\n",
       "      <td>205.000000</td>\n",
       "      <td>116.000000</td>\n",
       "      <td>74.000000</td>\n",
       "      <td>23.010000</td>\n",
       "      <td>68.000000</td>\n",
       "      <td>72.000000</td>\n",
       "      <td>0.000000</td>\n",
       "    </tr>\n",
       "    <tr>\n",
       "      <th>50%</th>\n",
       "      <td>0.000000</td>\n",
       "      <td>48.000000</td>\n",
       "      <td>2.000000</td>\n",
       "      <td>1.000000</td>\n",
       "      <td>1.000000</td>\n",
       "      <td>0.000000</td>\n",
       "      <td>0.0</td>\n",
       "      <td>0.000000</td>\n",
       "      <td>0.0</td>\n",
       "      <td>233.000000</td>\n",
       "      <td>127.000000</td>\n",
       "      <td>81.000000</td>\n",
       "      <td>25.230000</td>\n",
       "      <td>75.000000</td>\n",
       "      <td>79.000000</td>\n",
       "      <td>0.000000</td>\n",
       "    </tr>\n",
       "    <tr>\n",
       "      <th>75%</th>\n",
       "      <td>1.000000</td>\n",
       "      <td>56.000000</td>\n",
       "      <td>3.000000</td>\n",
       "      <td>1.000000</td>\n",
       "      <td>20.000000</td>\n",
       "      <td>0.000000</td>\n",
       "      <td>0.0</td>\n",
       "      <td>1.000000</td>\n",
       "      <td>0.0</td>\n",
       "      <td>261.000000</td>\n",
       "      <td>140.500000</td>\n",
       "      <td>88.000000</td>\n",
       "      <td>27.760000</td>\n",
       "      <td>82.000000</td>\n",
       "      <td>85.000000</td>\n",
       "      <td>0.000000</td>\n",
       "    </tr>\n",
       "    <tr>\n",
       "      <th>max</th>\n",
       "      <td>1.000000</td>\n",
       "      <td>69.000000</td>\n",
       "      <td>4.000000</td>\n",
       "      <td>1.000000</td>\n",
       "      <td>43.000000</td>\n",
       "      <td>0.029630</td>\n",
       "      <td>0.0</td>\n",
       "      <td>1.000000</td>\n",
       "      <td>0.0</td>\n",
       "      <td>367.000000</td>\n",
       "      <td>198.000000</td>\n",
       "      <td>118.000000</td>\n",
       "      <td>37.580000</td>\n",
       "      <td>110.000000</td>\n",
       "      <td>142.000000</td>\n",
       "      <td>1.000000</td>\n",
       "    </tr>\n",
       "  </tbody>\n",
       "</table>\n",
       "</div>"
      ],
      "text/plain": [
       "              male          age    education  currentSmoker   cigsPerDay  \\\n",
       "count  3845.000000  3845.000000  3845.000000    3845.000000  3845.000000   \n",
       "mean      0.434590    49.112614     1.999729       0.504031     9.042155   \n",
       "std       0.495768     8.470710     1.009456       0.500049    11.549549   \n",
       "min       0.000000    32.000000     1.000000       0.000000     0.000000   \n",
       "25%       0.000000    42.000000     1.000000       0.000000     0.000000   \n",
       "50%       0.000000    48.000000     2.000000       1.000000     1.000000   \n",
       "75%       1.000000    56.000000     3.000000       1.000000    20.000000   \n",
       "max       1.000000    69.000000     4.000000       1.000000    43.000000   \n",
       "\n",
       "            BPMeds  prevalentStroke  prevalentHyp  diabetes      totChol  \\\n",
       "count  3845.000000           3845.0   3845.000000    3845.0  3845.000000   \n",
       "mean      0.000347              0.0      0.266320       0.0   234.799082   \n",
       "std       0.003187              0.0      0.442091       0.0    41.452461   \n",
       "min       0.000000              0.0      0.000000       0.0   113.000000   \n",
       "25%       0.000000              0.0      0.000000       0.0   205.000000   \n",
       "50%       0.000000              0.0      0.000000       0.0   233.000000   \n",
       "75%       0.000000              0.0      1.000000       0.0   261.000000   \n",
       "max       0.029630              0.0      1.000000       0.0   367.000000   \n",
       "\n",
       "             sysBP        diaBP          BMI    heartRate      glucose  \\\n",
       "count  3845.000000  3845.000000  3845.000000  3845.000000  3845.000000   \n",
       "mean    129.755917    81.770611    25.478611    75.369019    79.594538   \n",
       "std      19.080909    10.771745     3.596393    11.413421    12.132156   \n",
       "min      83.500000    48.000000    15.540000    44.000000    40.000000   \n",
       "25%     116.000000    74.000000    23.010000    68.000000    72.000000   \n",
       "50%     127.000000    81.000000    25.230000    75.000000    79.000000   \n",
       "75%     140.500000    88.000000    27.760000    82.000000    85.000000   \n",
       "max     198.000000   118.000000    37.580000   110.000000   142.000000   \n",
       "\n",
       "        TenYearCHD  \n",
       "count  3845.000000  \n",
       "mean      0.134200  \n",
       "std       0.340912  \n",
       "min       0.000000  \n",
       "25%       0.000000  \n",
       "50%       0.000000  \n",
       "75%       0.000000  \n",
       "max       1.000000  "
      ]
     },
     "execution_count": 17,
     "metadata": {},
     "output_type": "execute_result"
    }
   ],
   "source": [
    "#Looking at some of the properties such as mean and std of each feature\n",
    "data_new.describe()"
   ]
  },
  {
   "cell_type": "markdown",
   "metadata": {
    "id": "c2x01-LjP2K9"
   },
   "source": [
    "Resampling data"
   ]
  },
  {
   "cell_type": "code",
   "execution_count": 18,
   "metadata": {
    "id": "_HtyxBJKkaiv",
    "outputId": "125d8bf0-e51d-4692-db31-bf67fc4f9d30"
   },
   "outputs": [
    {
     "name": "stderr",
     "output_type": "stream",
     "text": [
      "/opt/homebrew/lib/python3.9/site-packages/seaborn/_decorators.py:36: FutureWarning: Pass the following variable as a keyword arg: x. From version 0.12, the only valid positional argument will be `data`, and passing other arguments without an explicit keyword will result in an error or misinterpretation.\n",
      "  warnings.warn(\n"
     ]
    },
    {
     "data": {
      "text/plain": [
       "Text(0.5, 1.0, 'Class Distributions')"
      ]
     },
     "execution_count": 18,
     "metadata": {},
     "output_type": "execute_result"
    },
    {
     "data": {
      "image/png": "[encoded data removed]",
      "text/plain": [
       "<Figure size 432x288 with 1 Axes>"
      ]
     },
     "metadata": {
      "needs_background": "light"
     },
     "output_type": "display_data"
    }
   ],
   "source": [
    "#Viewing class distribution\n",
    "plt.figure(figsize=(6, 4))\n",
    "sns.countplot('TenYearCHD', data=data_new)\n",
    "plt.title('Class Distributions')"
   ]
  },
  {
   "cell_type": "markdown",
   "metadata": {
    "id": "vJ89DNUCn7e-"
   },
   "source": [
    "We can see that the data is imbalanced. This could lead to bad precision and recall. We will use SMOTE and RandomUndersample for resampling the data\n",
    "\n",
    "Before that we will scale the follwing features:\n",
    "\n",
    "age, cigsPerDay, totChol, sysBP, diaBP, BMI, heartRate and glucose"
   ]
  },
  {
   "cell_type": "code",
   "execution_count": 19,
   "metadata": {
    "id": "zqvabHojkc3W",
    "outputId": "3b999bb6-f200-4b8a-fb99-d1edd6947e41"
   },
   "outputs": [
    {
     "data": {
      "text/html": [
       "<div>\n",
       "<style scoped>\n",
       "    .dataframe tbody tr th:only-of-type {\n",
       "        vertical-align: middle;\n",
       "    }\n",
       "\n",
       "    .dataframe tbody tr th {\n",
       "        vertical-align: top;\n",
       "    }\n",
       "\n",
       "    .dataframe thead th {\n",
       "        text-align: right;\n",
       "    }\n",
       "</style>\n",
       "<table border=\"1\" class=\"dataframe\">\n",
       "  <thead>\n",
       "    <tr style=\"text-align: right;\">\n",
       "      <th></th>\n",
       "      <th>male</th>\n",
       "      <th>age</th>\n",
       "      <th>education</th>\n",
       "      <th>currentSmoker</th>\n",
       "      <th>cigsPerDay</th>\n",
       "      <th>BPMeds</th>\n",
       "      <th>prevalentStroke</th>\n",
       "      <th>prevalentHyp</th>\n",
       "      <th>diabetes</th>\n",
       "      <th>totChol</th>\n",
       "      <th>sysBP</th>\n",
       "      <th>diaBP</th>\n",
       "      <th>BMI</th>\n",
       "      <th>heartRate</th>\n",
       "      <th>glucose</th>\n",
       "      <th>TenYearCHD</th>\n",
       "    </tr>\n",
       "  </thead>\n",
       "  <tbody>\n",
       "    <tr>\n",
       "      <th>0</th>\n",
       "      <td>1.0</td>\n",
       "      <td>-0.642857</td>\n",
       "      <td>4.0</td>\n",
       "      <td>0.0</td>\n",
       "      <td>-0.05</td>\n",
       "      <td>0.0</td>\n",
       "      <td>0.0</td>\n",
       "      <td>0.0</td>\n",
       "      <td>0.0</td>\n",
       "      <td>-0.678571</td>\n",
       "      <td>-0.857143</td>\n",
       "      <td>-0.785714</td>\n",
       "      <td>0.366316</td>\n",
       "      <td>0.357143</td>\n",
       "      <td>-0.153846</td>\n",
       "      <td>0.0</td>\n",
       "    </tr>\n",
       "    <tr>\n",
       "      <th>1</th>\n",
       "      <td>0.0</td>\n",
       "      <td>-0.142857</td>\n",
       "      <td>2.0</td>\n",
       "      <td>0.0</td>\n",
       "      <td>-0.05</td>\n",
       "      <td>0.0</td>\n",
       "      <td>0.0</td>\n",
       "      <td>0.0</td>\n",
       "      <td>0.0</td>\n",
       "      <td>0.303571</td>\n",
       "      <td>-0.244898</td>\n",
       "      <td>0.000000</td>\n",
       "      <td>0.736842</td>\n",
       "      <td>1.428571</td>\n",
       "      <td>-0.230769</td>\n",
       "      <td>0.0</td>\n",
       "    </tr>\n",
       "    <tr>\n",
       "      <th>2</th>\n",
       "      <td>1.0</td>\n",
       "      <td>0.000000</td>\n",
       "      <td>1.0</td>\n",
       "      <td>1.0</td>\n",
       "      <td>0.95</td>\n",
       "      <td>0.0</td>\n",
       "      <td>0.0</td>\n",
       "      <td>0.0</td>\n",
       "      <td>0.0</td>\n",
       "      <td>0.214286</td>\n",
       "      <td>0.020408</td>\n",
       "      <td>-0.071429</td>\n",
       "      <td>0.023158</td>\n",
       "      <td>0.000000</td>\n",
       "      <td>-0.692308</td>\n",
       "      <td>0.0</td>\n",
       "    </tr>\n",
       "    <tr>\n",
       "      <th>3</th>\n",
       "      <td>0.0</td>\n",
       "      <td>0.928571</td>\n",
       "      <td>3.0</td>\n",
       "      <td>1.0</td>\n",
       "      <td>1.45</td>\n",
       "      <td>0.0</td>\n",
       "      <td>0.0</td>\n",
       "      <td>1.0</td>\n",
       "      <td>0.0</td>\n",
       "      <td>-0.142857</td>\n",
       "      <td>0.938776</td>\n",
       "      <td>1.000000</td>\n",
       "      <td>0.705263</td>\n",
       "      <td>-0.714286</td>\n",
       "      <td>1.846154</td>\n",
       "      <td>1.0</td>\n",
       "    </tr>\n",
       "    <tr>\n",
       "      <th>4</th>\n",
       "      <td>0.0</td>\n",
       "      <td>-0.142857</td>\n",
       "      <td>3.0</td>\n",
       "      <td>1.0</td>\n",
       "      <td>1.10</td>\n",
       "      <td>0.0</td>\n",
       "      <td>0.0</td>\n",
       "      <td>0.0</td>\n",
       "      <td>0.0</td>\n",
       "      <td>0.928571</td>\n",
       "      <td>0.122449</td>\n",
       "      <td>0.214286</td>\n",
       "      <td>-0.448421</td>\n",
       "      <td>0.714286</td>\n",
       "      <td>0.461538</td>\n",
       "      <td>0.0</td>\n",
       "    </tr>\n",
       "  </tbody>\n",
       "</table>\n",
       "</div>"
      ],
      "text/plain": [
       "   male       age  education  currentSmoker  cigsPerDay  BPMeds  \\\n",
       "0   1.0 -0.642857        4.0            0.0       -0.05     0.0   \n",
       "1   0.0 -0.142857        2.0            0.0       -0.05     0.0   \n",
       "2   1.0  0.000000        1.0            1.0        0.95     0.0   \n",
       "3   0.0  0.928571        3.0            1.0        1.45     0.0   \n",
       "4   0.0 -0.142857        3.0            1.0        1.10     0.0   \n",
       "\n",
       "   prevalentStroke  prevalentHyp  diabetes   totChol     sysBP     diaBP  \\\n",
       "0              0.0           0.0       0.0 -0.678571 -0.857143 -0.785714   \n",
       "1              0.0           0.0       0.0  0.303571 -0.244898  0.000000   \n",
       "2              0.0           0.0       0.0  0.214286  0.020408 -0.071429   \n",
       "3              0.0           1.0       0.0 -0.142857  0.938776  1.000000   \n",
       "4              0.0           0.0       0.0  0.928571  0.122449  0.214286   \n",
       "\n",
       "        BMI  heartRate   glucose  TenYearCHD  \n",
       "0  0.366316   0.357143 -0.153846         0.0  \n",
       "1  0.736842   1.428571 -0.230769         0.0  \n",
       "2  0.023158   0.000000 -0.692308         0.0  \n",
       "3  0.705263  -0.714286  1.846154         1.0  \n",
       "4 -0.448421   0.714286  0.461538         0.0  "
      ]
     },
     "execution_count": 19,
     "metadata": {},
     "output_type": "execute_result"
    }
   ],
   "source": [
    "#We will use Robust scaler for scaling as it is less prone to outliers\n",
    "from sklearn.preprocessing import RobustScaler\n",
    "sc = RobustScaler()\n",
    "\n",
    "data_new['age'] = sc.fit_transform(data_new['age'].values.reshape(-1,1))\n",
    "data_new['cigsPerDay'] = sc.fit_transform(data_new['cigsPerDay'].values.reshape(-1,1))\n",
    "data_new['totChol'] = sc.fit_transform(data_new['totChol'].values.reshape(-1,1))\n",
    "data_new['sysBP'] = sc.fit_transform(data_new['sysBP'].values.reshape(-1,1))\n",
    "data_new['diaBP'] = sc.fit_transform(data_new['diaBP'].values.reshape(-1,1))\n",
    "data_new['BMI'] = sc.fit_transform(data_new['BMI'].values.reshape(-1,1))\n",
    "data_new['heartRate'] = sc.fit_transform(data_new['heartRate'].values.reshape(-1,1))\n",
    "data_new['glucose'] = sc.fit_transform(data_new['glucose'].values.reshape(-1,1))\n",
    "\n",
    "data_new.head()"
   ]
  },
  {
   "cell_type": "code",
   "execution_count": 20,
   "metadata": {
    "id": "F91dWf_UbilJ"
   },
   "outputs": [],
   "source": [
    "X = data_new.iloc[:,:-1].values\n",
    "y = data_new.iloc[:, -1].values"
   ]
  },
  {
   "cell_type": "code",
   "execution_count": 21,
   "metadata": {
    "id": "Zqd6oBonsRxc",
    "outputId": "8c858838-32fb-4d5f-ca47-05612640007d"
   },
   "outputs": [
    {
     "name": "stdout",
     "output_type": "stream",
     "text": [
      "(6658, 15) (6658,)\n",
      "(6658, 15) (6658, 1)\n"
     ]
    }
   ],
   "source": [
    "#SMOTE\n",
    "from imblearn.over_sampling import SMOTE\n",
    "from imblearn.under_sampling import RandomUnderSampler\n",
    "from imblearn.pipeline import Pipeline\n",
    "\n",
    "over = SMOTE()\n",
    "under = RandomUnderSampler()\n",
    "steps = [('o', over), ('u', under)]\n",
    "pipeline = Pipeline(steps=steps)\n",
    "\n",
    "X, y = pipeline.fit_resample(X, y)\n",
    "print(X.shape, y.shape)\n",
    "\n",
    "#reshaping\n",
    "y = y.reshape(len(y), 1)\n",
    "print(X.shape, y.shape)"
   ]
  },
  {
   "cell_type": "markdown",
   "metadata": {
    "id": "isCSiIwJcBpG"
   },
   "source": [
    "Data successfully resampled"
   ]
  },
  {
   "cell_type": "code",
   "execution_count": 22,
   "metadata": {
    "id": "bEtV4rU6cBEA",
    "outputId": "5cc9e684-82b3-45ff-fc13-5f72376815a2"
   },
   "outputs": [
    {
     "name": "stderr",
     "output_type": "stream",
     "text": [
      "/opt/homebrew/lib/python3.9/site-packages/seaborn/_decorators.py:36: FutureWarning: Pass the following variable as a keyword arg: x. From version 0.12, the only valid positional argument will be `data`, and passing other arguments without an explicit keyword will result in an error or misinterpretation.\n",
      "  warnings.warn(\n"
     ]
    },
    {
     "data": {
      "text/plain": [
       "Text(0.5, 1.0, 'Class Distributions after resampling')"
      ]
     },
     "execution_count": 22,
     "metadata": {},
     "output_type": "execute_result"
    },
    {
     "data": {
      "image/png": "[encoded data removed]",
      "text/plain": [
       "<Figure size 432x288 with 1 Axes>"
      ]
     },
     "metadata": {
      "needs_background": "light"
     },
     "output_type": "display_data"
    }
   ],
   "source": [
    "#Viewing class distribution after resampling\n",
    "df_temp = {'TenYearCHD' : y[:,0]}\n",
    "df = pd.DataFrame(df_temp)\n",
    "\n",
    "plt.figure(figsize=(6, 4))\n",
    "sns.countplot('TenYearCHD', data = df)\n",
    "plt.title('Class Distributions after resampling')"
   ]
  },
  {
   "cell_type": "markdown",
   "metadata": {
    "id": "Y5Erj1AHdAoe"
   },
   "source": [
    "Now the dataset is balanced"
   ]
  },
  {
   "cell_type": "code",
   "execution_count": 23,
   "metadata": {
    "id": "kThsyz3ksE-7",
    "outputId": "36d5a329-c828-4887-f353-a233d3047aaf"
   },
   "outputs": [
    {
     "name": "stdout",
     "output_type": "stream",
     "text": [
      "(5992, 15) (5992, 1) (666, 15) (666, 1)\n"
     ]
    }
   ],
   "source": [
    "#Splitting data\n",
    "from sklearn.model_selection import train_test_split\n",
    "X_train, X_test, y_train, y_test = train_test_split(X, y, test_size = 0.1, random_state = 0)\n",
    "\n",
    "print(X_train.shape, y_train.shape, X_test.shape, y_test.shape)"
   ]
  },
  {
   "cell_type": "markdown",
   "metadata": {
    "id": "-Kdk-AhIP6DN"
   },
   "source": [
    "#**Model Training**"
   ]
  },
  {
   "cell_type": "code",
   "execution_count": 24,
   "metadata": {
    "id": "vyhRlZVEzy1Y",
    "outputId": "bfc5b3fb-95fb-4d67-aca3-7821c9ba9f39"
   },
   "outputs": [
    {
     "data": {
      "text/plain": [
       "RandomForestClassifier()"
      ]
     },
     "execution_count": 24,
     "metadata": {},
     "output_type": "execute_result"
    }
   ],
   "source": [
    "from sklearn.ensemble import RandomForestClassifier\n",
    "classifier = RandomForestClassifier()\n",
    "y_train = y_train.reshape(len(y_train))\n",
    "classifier.fit(X_train, y_train)\n"
   ]
  },
  {
   "cell_type": "code",
   "execution_count": 25,
   "metadata": {
    "id": "a9V6pOfLfJEm",
    "outputId": "4213a644-7280-4b23-9545-6facbe8a189d"
   },
   "outputs": [
    {
     "name": "stdout",
     "output_type": "stream",
     "text": [
      "              precision    recall  f1-score   support\n",
      "\n",
      "         0.0       0.95      0.94      0.95       334\n",
      "         1.0       0.94      0.95      0.95       332\n",
      "\n",
      "    accuracy                           0.95       666\n",
      "   macro avg       0.95      0.95      0.95       666\n",
      "weighted avg       0.95      0.95      0.95       666\n",
      "\n"
     ]
    }
   ],
   "source": [
    "y_pred = classifier.predict(X_test)\n",
    "from sklearn.metrics import classification_report\n",
    "print(classification_report(y_test, y_pred))"
   ]
  },
  {
   "cell_type": "code",
   "execution_count": 29,
   "metadata": {},
   "outputs": [
    {
     "data": {
      "text/plain": [
       "<AxesSubplot:title={'center':'Confusion Matrix'}, xlabel='Predicted label', ylabel='True label'>"
      ]
     },
     "execution_count": 29,
     "metadata": {},
     "output_type": "execute_result"
    },
    {
     "data": {
      "image/png": "[encoded data removed]",
      "text/plain": [
       "<Figure size 504x504 with 2 Axes>"
      ]
     },
     "metadata": {
      "needs_background": "light"
     },
     "output_type": "display_data"
    }
   ],
   "source": [
    "import scikitplot\n",
    "scikitplot.metrics.plot_confusion_matrix(y_test, y_pred, figsize=(7,7))"
   ]
  },
  {
   "cell_type": "code",
   "execution_count": null,
   "metadata": {},
   "outputs": [],
   "source": []
  }
 ],
 "metadata": {
  "kernelspec": {
   "display_name": "Python 3 (ipykernel)",
   "language": "python",
   "name": "python3"
  },
  "language_info": {
   "codemirror_mode": {
    "name": "ipython",
    "version": 3
   },
   "file_extension": ".py",
   "mimetype": "text/x-python",
   "name": "python",
   "nbconvert_exporter": "python",
   "pygments_lexer": "ipython3",
   "version": "3.9.9"
  }
 },
 "nbformat": 4,
 "nbformat_minor": 4
}
